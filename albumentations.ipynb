{
 "cells": [
  {
   "cell_type": "markdown",
   "metadata": {},
   "source": [
    "## How to use\n",
    "1. set an image file\n",
    "2. comment out augmentations\n",
    "3. run augmentation samples\n",
    "4. save if desired"
   ]
  },
  {
   "cell_type": "code",
   "execution_count": 6,
   "metadata": {},
   "outputs": [],
   "source": [
    "import albumentations as A\n",
    "\n",
    "import matplotlib.pyplot as plt\n",
    "import ipyplot\n",
    "import numpy as np\n",
    "from PIL import Image"
   ]
  },
  {
   "cell_type": "code",
   "execution_count": 2,
   "metadata": {},
   "outputs": [],
   "source": [
    "# set image\n",
    "image = np.array(Image.open(\"/path/to/image.jpg\"))"
   ]
  },
  {
   "cell_type": "code",
   "execution_count": 16,
   "metadata": {},
   "outputs": [],
   "source": [
    "# comment-out if not necessary\n",
    "transform = A.Compose([\n",
    "    ### spatial (pixel-level) augmentations \n",
    "    # noise\n",
    "    A.Blur(blur_limit=7, p=0.1),\n",
    "    A.GaussNoise(var_limit=(10.0, 20.0), p=0.1),\n",
    "    A.GlassBlur(sigma=0.7, max_delta=4, p=0.1),\n",
    "    A.ISONoise(color_shift=(0.01, 0.05), intensity=(0.1, 0.5), p=0.1),\n",
    "    A.MultiplicativeNoise(multiplier=(0.9, 1.1), per_channel=True, elementwise=True, p=0.1),\n",
    "    # image compression\n",
    "    A.ImageCompression(quality_lower=99, quality_upper=100, p=0.1),\n",
    "    A.Downscale(scale_min=0.25, scale_max=0.5, p=0.1),\n",
    "    # flip\n",
    "    A.VerticalFlip(p=0.1),\n",
    "    A.HorizontalFlip(p=0.1),\n",
    "    # color jittering\n",
    "    A.RandomGamma(gamma_limit=(80, 120), p=0.1),\n",
    "    A.HueSaturationValue(hue_shift_limit=20, sat_shift_limit=30, val_shift_limit=20, p=0.1),\n",
    "    A.RGBShift(r_shift_limit=20, g_shift_limit=20, b_shift_limit=20,p=0.1),\n",
    "    A.ColorJitter(brightness=0.2, contrast=0.2, saturation=0.2, hue=0.2, p=0.1),\n",
    "    A.Emboss(alpha=(0.2, 0.5), strength=(0.2, 0.7), p=0.1),\n",
    "    A.RandomToneCurve(scale=0.1, p=0.1),\n",
    "    A.FancyPCA(alpha=0.1, p=0.1),\n",
    "    # dramatic color transform\n",
    "    A.ChannelShuffle(p=0.1),\n",
    "    A.InvertImg(p=0.1),\n",
    "    A.ToGray(p=0.1),\n",
    "    A.ToSepia(p=0.1),\n",
    "    A.Equalize(p=0.1),\n",
    "    # constrast and sharpness\n",
    "    A.CLAHE(clip_limit=4.0, tile_grid_size=(8, 8), p=0.1),\n",
    "    A.Sharpen(alpha=(0.2, 0.5), lightness=(0.5, 1.0), p=0.1),\n",
    "    A.Superpixels(p_replace=0.1, n_segments=100, max_size=128, p=0.1),\n",
    "    # weather\n",
    "    A.CoarseDropout(max_holes=8, max_height=8, max_width=8, p=0.1),\n",
    "    A.RandomBrightnessContrast(brightness_limit=0.2, contrast_limit=0.2, p=0.1),\n",
    "    A.RandomSnow(snow_point_lower=0.1, snow_point_upper=0.3, brightness_coeff=2.5, p=0.1),\n",
    "    A.RandomRain(slant_lower=-10, slant_upper=10, drop_length=20, drop_width=1, drop_color=(200, 200, 200), blur_value=7, brightness_coefficient=0.7, rain_type=\"drizzle\", p=0.1),\n",
    "    A.RandomFog(fog_coef_lower=0.3, fog_coef_upper=1, alpha_coef=0.08, p=0.1),\n",
    "    A.RandomSunFlare(flare_roi=(0, 0, 1, 0.5), angle_lower=0, angle_upper=1, num_flare_circles_lower=6, num_flare_circles_upper=10, src_radius=400, src_color=(255, 255, 255), p=0.1),\n",
    "    A.RandomShadow(shadow_roi=(0, 0.5, 1, 1), num_shadows_lower=1, num_shadows_upper=2, shadow_dimension=5, p=0.1),\n",
    "    # others\n",
    "#     A.MaskDropout(max_objects=1, p=0.1), # dropout for object segmentation\n",
    "#     A.GridDropout(ratio=0.5, unit_size_min=None, unit_size_max=None, holes_number_x=None, holes_number_y=None, shift_x=0, shift_y=0, random_offset=False, fill_value=0, mask_fill_value=0, p=0.1), # dropout \n",
    "#     A.Posterize(num_bits=4, p=0.1),\n",
    "#     A.ChannelDropout(channel_drop_range=(1, 1), fill_value=0, p=0.1),\n",
    "#     A.Solarize(threshold=128, p=0.1),\n",
    "#     A.Flip(p=0.1), equals to Compose([VerticalFlip, HorizontalFlip])\n",
    "#     A.RandomGridShuffle( grid=(3, 3), p=0.1),\n",
    "#     A.PadIfNeeded(min_height=1024, min_width=1024, p=0.1),\n",
    "#     A.MotionBlur(p=0.1),\n",
    "#     A.MedianBlur(blur_limit=7, p=0.1),\n",
    "#     A.GaussianBlur(blur_limit=(3, 7), sigma_limit=0, p=0.1),\n",
    "    ###\n",
    "    \n",
    "    ### geometric augmentations \n",
    "    A.RandomResizedCrop(height=100, width=100, scale=(0.08, 1.0), ratio=(0.75, 1.3333333333333333), p=0.1), # == Compose([crop, resize])\n",
    "    # distortion\n",
    "    A.OpticalDistortion(distort_limit=0.1, shift_limit=0.1, p=0.1),\n",
    "    A.GridDistortion(num_steps=5, distort_limit=0.3, p=0.1),\n",
    "    A.ElasticTransform(alpha=1, sigma=50, alpha_affine=50, p=0.1),\n",
    "    # perspective transform\n",
    "    A.ShiftScaleRotate(shift_limit=0.1, scale_limit=0.2, rotate_limit=359, p=0.1),\n",
    "    A.Perspective(scale=(0.05, 0.1), p=0.1),\n",
    "    # others\n",
    "#     A.RandomCrop(height=100, width=100, p=0.1),\n",
    "#     A.Resize(height=300, width=200, p=0.1),\n",
    "#     A.Rotate(limit=359, p=0.1),\n",
    "#     A.Transpose(p=0.1),\n",
    "#     A.RandomScale(scale_limit=0.1, p=0.1),\n",
    "#     A.LongestMaxSize(max_size=100, p=0.1),\n",
    "#     A.SmallestMaxSize(max_size=100, p=0.1),\n",
    "#     A.RandomRotate90(p=0.1),\n",
    "#     A.SafeRotate(limit=359, p=0.1), # rotate maintaining image width and height\n",
    "#     A.CenterCrop(height=100, width=100, p=0.1),\n",
    "#     A.Crop(x_min=0, y_min=0, x_max=1024, y_max=1024, p=0.1), # crop specific region\n",
    "#     A.CropNonEmptyMaskIfExists(height=100, width=100, p=0.1),\n",
    "#     A.RandomSizedCrop(min_max_height=(0,1000), height=100, width=100, p=0.1), # set crop-able region\n",
    "#     A.RandomCropNearBBox(max_part_shift=(0.3, 0.3), cropping_box_key=\"cropping_bbox\", p=0.1), # for detection\n",
    "#     A.RandomSizedBBoxSafeCrop(height=100, width=100, p=0.1), # crop and rescale without loss of bboxes\n",
    "#     A.CropAndPad(px=None, percent: (-0.1, 0.1, -0.1, 0.1), p=0.1), \n",
    "#     A.HistogramMatching(reference_images=imgs, p=0.1), # histogram matching given reference images\n",
    "#     A.FDA(reference_images: imgs,beta_limit=0.1, p=0.1), # fourier domain adaptation given reference images\n",
    "#     A.PixelDistributionAdaptation(reference_images, p=0.1), # pixel distribution adaptation given reference images\n",
    "#     A.Affine(scale=1.2, translate_percent=0.1, rotate=359, shear=0.2), # apply a given affine transformation    \n",
    "#     A.PiecewiseAffine(scale=(0.03, 0.05), nb_rows=4, nb_cols=4),\n",
    "])"
   ]
  },
  {
   "cell_type": "code",
   "execution_count": 17,
   "metadata": {},
   "outputs": [],
   "source": [
    "n_sample_imgs = 50\n",
    "list_transformed_images = [transform(image=image)['image'] for _ in range(n_sample_imgs)]"
   ]
  },
  {
   "cell_type": "code",
   "execution_count": null,
   "metadata": {},
   "outputs": [],
   "source": [
    "img_width = 300\n",
    "ipyplot.plot_images([image]+list_transformed_images, [\"original\"]+[\"transform - {}\".format(i) for i in range(len(list_transformed_images))], max_images=n_sample_imgs+2, img_width=img_width, show_url=False)"
   ]
  },
  {
   "cell_type": "code",
   "execution_count": 14,
   "metadata": {},
   "outputs": [],
   "source": [
    "A.save(transform, 'augmentation.json')"
   ]
  },
  {
   "cell_type": "code",
   "execution_count": 15,
   "metadata": {},
   "outputs": [],
   "source": [
    "transform = A.load(\"augmentation.json\")"
   ]
  },
  {
   "cell_type": "code",
   "execution_count": null,
   "metadata": {},
   "outputs": [],
   "source": []
  }
 ],
 "metadata": {
  "kernelspec": {
   "display_name": "Python 3 (ipykernel)",
   "language": "python",
   "name": "python3"
  },
  "language_info": {
   "codemirror_mode": {
    "name": "ipython",
    "version": 3
   },
   "file_extension": ".py",
   "mimetype": "text/x-python",
   "name": "python",
   "nbconvert_exporter": "python",
   "pygments_lexer": "ipython3",
   "version": "3.7.15"
  }
 },
 "nbformat": 4,
 "nbformat_minor": 4
}
